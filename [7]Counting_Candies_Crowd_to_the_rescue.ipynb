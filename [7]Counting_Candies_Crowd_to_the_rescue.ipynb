{
  "nbformat": 4,
  "nbformat_minor": 0,
  "metadata": {
    "colab": {
      "name": "[7]Counting Candies : Crowd to the rescue.ipynb",
      "provenance": [],
      "authorship_tag": "ABX9TyOHDY8LIh98ijwuIKRACsxI",
      "include_colab_link": true
    },
    "kernelspec": {
      "name": "python3",
      "display_name": "Python 3"
    },
    "language_info": {
      "name": "python"
    }
  },
  "cells": [
    {
      "cell_type": "markdown",
      "metadata": {
        "id": "view-in-github",
        "colab_type": "text"
      },
      "source": [
        "<a href=\"https://colab.research.google.com/github/krishyadav007/The-Joy-of-Computing-using-Python/blob/main/%5B7%5DCounting_Candies_Crowd_to_the_rescue.ipynb\" target=\"_parent\"><img src=\"https://colab.research.google.com/assets/colab-badge.svg\" alt=\"Open In Colab\"/></a>"
      ]
    },
    {
      "cell_type": "code",
      "metadata": {
        "id": "Fo_B5QDU9p-H"
      },
      "source": [
        "import statistics\n",
        "import matplotlib.pyplot as plt"
      ],
      "execution_count": 2,
      "outputs": []
    },
    {
      "cell_type": "markdown",
      "metadata": {
        "id": "CFB0SerZBKa_"
      },
      "source": [
        ""
      ]
    },
    {
      "cell_type": "code",
      "metadata": {
        "colab": {
          "base_uri": "https://localhost:8080/",
          "height": 282
        },
        "id": "Gel4esKVBLQ4",
        "outputId": "1b6f1cc4-8c89-4ffc-bfd3-bd27458bcf0d"
      },
      "source": [
        "Estimates=[5,5,500000,5,5]\n",
        "y=[]\n",
        "\n",
        "Estimates.sort()\n",
        "tv = int(0.1*(len(Estimates)))\n",
        "\n",
        "Estimates = Estimates[tv:]\n",
        "Estimates = Estimates[:len(Estimates)-tv]\n",
        "for i in range(len(Estimates)):\n",
        "  y.append(5)\n",
        "\n",
        "plt.plot(Estimates, y,'r--')\n",
        "plt.plot([statistics.mean(Estimates)],[5],'ro')\n",
        "plt.plot([statistics.median(Estimates)],[5],'bs')\n",
        "plt.plot([375],[5],'g^')"
      ],
      "execution_count": 9,
      "outputs": [
        {
          "output_type": "execute_result",
          "data": {
            "text/plain": [
              "[<matplotlib.lines.Line2D at 0x7f9262ea3310>]"
            ]
          },
          "metadata": {
            "tags": []
          },
          "execution_count": 9
        },
        {
          "output_type": "display_data",
          "data": {
            "image/png": "[encoded data removed]",
            "text/plain": [
              "<Figure size 432x288 with 1 Axes>"
            ]
          },
          "metadata": {
            "tags": [],
            "needs_background": "light"
          }
        }
      ]
    }
  ]
}